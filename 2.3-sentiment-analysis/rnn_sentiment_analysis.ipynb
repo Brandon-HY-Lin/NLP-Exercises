{
 "cells": [
  {
   "cell_type": "markdown",
   "metadata": {},
   "source": [
    "# Sentiment Analysis Part 2\n",
    "\n",
    "_Natural Langauge Processing Nanodegree Program_\n",
    "\n",
    "---\n",
    "\n"
   ]
  },
  {
   "cell_type": "markdown",
   "metadata": {},
   "source": [
    "## Step 5: Switching gears - RNNs\n",
    "\n",
    "We just saw how the task of sentiment analysis can be solved via a traditional machine learning approach: BoW + a nonlinear classifier. We now switch gears and use Recurrent Neural Networks, and in particular LSTMs, to perform sentiment analysis in Keras. Conveniently, Keras has a built-in [IMDb movie reviews dataset](https://keras.io/datasets/#imdb-movie-reviews-sentiment-classification) that we can use, with the same vocabulary size."
   ]
  },
  {
   "cell_type": "code",
   "execution_count": 1,
   "metadata": {},
   "outputs": [
    {
     "name": "stderr",
     "output_type": "stream",
     "text": [
      "Using TensorFlow backend.\n"
     ]
    },
    {
     "name": "stdout",
     "output_type": "stream",
     "text": [
      "Loaded dataset with 25000 training samples, 25000 test samples\n"
     ]
    }
   ],
   "source": [
    "from keras.datasets import imdb  # import the built-in imdb dataset in Keras\n",
    "\n",
    "# Set the vocabulary size\n",
    "vocabulary_size = 5000\n",
    "\n",
    "# Load in training and test data (note the difference in convention compared to scikit-learn)\n",
    "(X_train, y_train), (X_test, y_test) = imdb.load_data(num_words=vocabulary_size)\n",
    "print(\"Loaded dataset with {} training samples, {} test samples\".format(len(X_train), len(X_test)))"
   ]
  },
  {
   "cell_type": "code",
   "execution_count": 2,
   "metadata": {},
   "outputs": [
    {
     "name": "stdout",
     "output_type": "stream",
     "text": [
      "--- Review ---\n",
      "[1, 894, 25, 26, 200, 4, 2088, 7, 158, 5, 2437, 549, 18, 4, 1479, 675, 50, 26, 55, 171, 183, 8, 40, 133, 31, 42, 107, 411, 39, 2, 2, 628, 2, 75, 66, 144, 67, 90, 53, 5, 1284, 1881, 26, 1984, 5, 2, 2, 9, 17, 52, 17, 59, 70, 30, 1069, 41, 2, 21, 1038, 198, 12, 338, 114, 338, 116, 433, 487, 5, 2669, 4, 318, 302, 26, 2, 17, 76, 17, 4, 436, 904, 9, 35, 1032, 5, 373, 975, 4, 2681, 2267, 2, 1186, 26, 32, 1305, 394, 48, 75, 1133, 4, 206, 2, 73, 50, 26, 1297, 206, 844, 11, 49, 108, 15, 97, 25, 2, 5, 50, 26, 49, 15, 97, 25, 2, 14, 20, 64, 1367, 4, 1569, 243, 14, 889, 117, 317, 146, 38, 1264, 13, 122, 24, 990, 18, 14, 10, 10, 466, 101, 3401, 13, 70, 332, 5, 104, 38, 17, 13, 1829, 180, 8, 106, 13, 122, 24, 535, 233, 52, 13, 69, 57, 1398, 21, 16, 643, 3786, 170, 11, 246, 40, 6, 1374, 3526, 31, 566, 1533, 168, 245, 5, 60, 19, 57, 1398, 13, 16, 387, 180, 78, 24, 60, 2, 78, 45, 2, 819, 146, 55, 2, 7, 78, 102, 21, 14, 166, 1446, 3592, 3632, 63, 13, 423, 735, 1517, 10, 10, 57, 14, 418, 7, 120, 2, 1916, 9, 11, 4, 172, 1169, 17, 2, 703, 117, 132, 5, 2, 89, 14, 9, 3880, 1150, 6, 693, 241, 340, 2, 72, 2, 42, 820, 2, 4, 2, 1510, 9, 32, 15, 13, 70, 104, 7, 17, 2757, 10, 10, 13, 100, 140, 23, 5, 23, 21, 4917, 8, 135, 15, 4487, 13, 4725, 6, 1374, 3526, 13, 359, 8, 140, 2, 61, 523, 300, 7, 158]\n",
      "--- Label ---\n",
      "0\n"
     ]
    }
   ],
   "source": [
    "# Inspect a sample review and its label\n",
    "print(\"--- Review ---\")\n",
    "print(X_train[7])\n",
    "print(\"--- Label ---\")\n",
    "print(y_train[7])"
   ]
  },
  {
   "cell_type": "markdown",
   "metadata": {},
   "source": [
    "Notice that the label is an integer (0 for negative, 1 for positive), and the review itself is stored as a sequence of integers. These are word IDs that have been preassigned to individual words. To map them back to the original words, you can use the dictionary returned by `imdb.get_word_index()`."
   ]
  },
  {
   "cell_type": "code",
   "execution_count": 3,
   "metadata": {},
   "outputs": [
    {
     "name": "stdout",
     "output_type": "stream",
     "text": [
      "--- Review (with words) ---\n",
      "['the', 'superb', 'have', 'he', 'may', 'of', 'logic', 'br', \"didn't\", 'to', 'drop', 'type', 'but', 'of', 'appeared', 'major', 'more', 'he', 'time', 'again', 'seems', 'in', 'just', 'scene', 'by', \"it's\", 'seen', 'dialogue', 'or', 'and', 'and', 'english', 'and', 'bad', 'had', 'real', 'can', 'made', 'up', 'to', 'remains', 'moon', 'he', 'psychological', 'to', 'and', 'and', 'it', 'movie', 'very', 'movie', 'would', 'well', 'at', 'cartoon', 'about', 'and', 'not', 'agree', 'series', 'that', 'death', 'little', 'death', 'love', 'entire', \"you'll\", 'to', 'reveals', 'of', 'excellent', 'instead', 'he', 'and', 'movie', 'get', 'movie', 'of', 'problem', 'directors', 'it', 'so', 'flat', 'to', 'tell', 'background', 'of', 'starred', 'unrealistic', 'and', 'trip', 'he', 'an', 'channel', 'getting', 'what', 'bad', 'recent', 'of', 'without', 'and', 'much', 'more', 'he', 'master', 'without', 'move', 'this', 'good', 'many', 'for', 'could', 'have', 'and', 'to', 'more', 'he', 'good', 'for', 'could', 'have', 'and', 'as', 'on', 'see', 'places', 'of', 'extreme', 'yet', 'as', 'meets', 'over', 'half', 'watching', 'her', 'appearance', 'was', 'off', 'his', 'political', 'but', 'as', 'i', 'i', 'throughout', 'think', 'walls', 'was', 'well', \"you're\", 'to', 'two', 'her', 'movie', 'was', 'superman', 'things', 'in', 'character', 'was', 'off', 'his', 'stuff', 'last', 'very', 'was', 'me', 'even', 'exception', 'not', 'with', 'cool', 'craig', 'part', 'this', 'worst', 'just', 'is', 'manner', 'beings', 'by', 'hit', 'alien', 'few', 'tv', 'to', 'which', 'film', 'even', 'exception', 'was', 'with', 'episode', 'things', 'do', 'his', 'which', 'and', 'do', 'if', 'and', 'figure', 'watching', 'time', 'and', 'br', 'do', 'characters', 'not', 'as', 'find', 'bar', 'pleasantly', 'twin', 'really', 'was', \"couldn't\", 'needs', 'rape', 'i', 'i', 'even', 'as', 'felt', 'br', 'show', 'and', 'judge', 'it', 'this', 'of', 'every', 'prison', 'movie', 'and', 'cheap', 'over', 'say', 'to', 'and', \"don't\", 'as', 'it', 'bare', 'hair', 'is', 'supporting', 'am', 'used', 'and', 'we', 'and', \"it's\", 'crime', 'and', 'of', 'and', 'wall', 'it', 'an', 'for', 'was', 'well', 'two', 'br', 'movie', 'helping', 'i', 'i', 'was', 'after', 'through', 'are', 'to', 'are', 'not', 'equipment', 'in', 'why', 'for', 'snl', 'was', '1983', 'is', 'manner', 'beings', 'was', 'kids', 'in', 'through', 'and', 'only', 'directed', 'later', 'br', \"didn't\"]\n",
      "--- Label ---\n",
      "0\n"
     ]
    }
   ],
   "source": [
    "# Map word IDs back to words\n",
    "word2id = imdb.get_word_index()\n",
    "id2word = {i: word for word, i in word2id.items()}\n",
    "print(\"--- Review (with words) ---\")\n",
    "print([id2word.get(i, \" \") for i in X_train[7]])\n",
    "print(\"--- Label ---\")\n",
    "print(y_train[7])"
   ]
  },
  {
   "cell_type": "markdown",
   "metadata": {},
   "source": [
    "Unlike our Bag-of-Words approach, where we simply summarized the counts of each word in a document, this representation essentially retains the entire sequence of words (minus punctuation, stopwords, etc.). This is critical for RNNs to function. But it also means that now the features can be of different lengths!\n",
    "\n",
    "#### Question: Variable length reviews\n",
    "\n",
    "What is the maximum review length (in terms of number of words) in the training set? What is the minimum?\n",
    "\n",
    "#### Answer:\n",
    "\n",
    "...\n",
    "\n",
    "\n",
    "### TODO: Pad sequences\n",
    "\n",
    "In order to feed this data into your RNN, all input documents must have the same length. Let's limit the maximum review length to `max_words` by truncating longer reviews and padding shorter reviews with a null value (0). You can accomplish this easily using the [`pad_sequences()`](https://keras.io/preprocessing/sequence/#pad_sequences) function in Keras. For now, set `max_words` to 500."
   ]
  },
  {
   "cell_type": "code",
   "execution_count": 4,
   "metadata": {},
   "outputs": [],
   "source": [
    "from keras.preprocessing import sequence\n",
    "\n",
    "# Set the maximum number of words per document (for both training and testing)\n",
    "max_words = 500\n",
    "\n",
    "# TODO: Pad sequences in X_train and X_test\n",
    "X_train = sequence.pad_sequences(X_train, maxlen=max_words)\n",
    "X_test = sequence.pad_sequences(X_test, maxlen=max_words)"
   ]
  },
  {
   "cell_type": "markdown",
   "metadata": {},
   "source": [
    "### TODO: Design an RNN model for sentiment analysis\n",
    "\n",
    "Build your model architecture in the code cell below. We have imported some layers from Keras that you might need but feel free to use any other layers / transformations you like.\n",
    "\n",
    "Remember that your input is a sequence of words (technically, integer word IDs) of maximum length = `max_words`, and your output is a binary sentiment label (0 or 1)."
   ]
  },
  {
   "cell_type": "code",
   "execution_count": 5,
   "metadata": {},
   "outputs": [
    {
     "name": "stdout",
     "output_type": "stream",
     "text": [
      "_________________________________________________________________\n",
      "Layer (type)                 Output Shape              Param #   \n",
      "=================================================================\n",
      "embedding_1 (Embedding)      (None, None, 32)          160000    \n",
      "_________________________________________________________________\n",
      "lstm_1 (LSTM)                (None, 100)               53200     \n",
      "_________________________________________________________________\n",
      "dense_1 (Dense)              (None, 1)                 101       \n",
      "=================================================================\n",
      "Total params: 213,301\n",
      "Trainable params: 213,301\n",
      "Non-trainable params: 0\n",
      "_________________________________________________________________\n",
      "None\n"
     ]
    }
   ],
   "source": [
    "from keras.models import Sequential\n",
    "from keras.layers import Embedding, LSTM, Dense, Dropout\n",
    "\n",
    "# TODO: Design your model\n",
    "embed_size = 32\n",
    "hidden_size = 100\n",
    "\n",
    "model = Sequential()\n",
    "model.add(Embedding(input_dim=vocabulary_size, output_dim=embed_size))\n",
    "model.add(LSTM(units=hidden_size, activation='tanh'))\n",
    "model.add(Dense(1, activation='sigmoid'))\n",
    "\n",
    "print(model.summary())"
   ]
  },
  {
   "cell_type": "markdown",
   "metadata": {},
   "source": [
    "#### Question: Architecture and parameters\n",
    "\n",
    "Briefly describe your neural net architecture. How many model parameters does it have that need to be trained?\n",
    "\n",
    "#### Answer:\n",
    "\n",
    "...\n",
    "\n",
    "### TODO: Train and evaluate your model\n",
    "\n",
    "Now you are ready to train your model. In Keras world, you first need to _compile_ your model by specifying the loss function and optimizer you want to use while training, as well as any evaluation metrics you'd like to measure. Specify the approprate parameters, including at least one metric `'accuracy'`."
   ]
  },
  {
   "cell_type": "code",
   "execution_count": 6,
   "metadata": {},
   "outputs": [],
   "source": [
    "# TODO: Compile your model, specifying a loss function, optimizer, and metrics\n",
    "model.compile(optimizer='adam', loss='binary_crossentropy', metrics=['accuracy'])"
   ]
  },
  {
   "cell_type": "markdown",
   "metadata": {},
   "source": [
    "Once compiled, you can kick off the training process. There are two important training parameters that you have to specify - **batch size** and **number of training epochs**, which together with your model architecture determine the total training time.\n",
    "\n",
    "Training may take a while, so grab a cup of coffee, or better, go for a hike! If possible, consider using a GPU, as a single training run can take several hours on a CPU.\n",
    "\n",
    "> **Tip**: You can split off a small portion of the training set to be used for validation during training. This will help monitor the training process and identify potential overfitting. You can supply a validation set to `model.fit()` using its `validation_data` parameter, or just specify `validation_split` - a fraction of the training data for Keras to set aside for this purpose (typically 5-10%). Validation metrics are evaluated once at the end of each epoch."
   ]
  },
  {
   "cell_type": "code",
   "execution_count": 7,
   "metadata": {},
   "outputs": [
    {
     "name": "stdout",
     "output_type": "stream",
     "text": [
      "Train on 24936 samples, validate on 64 samples\n",
      "Epoch 1/3\n",
      "24936/24936 [==============================] - 546s 22ms/step - loss: 0.4572 - acc: 0.7787 - val_loss: 0.4116 - val_acc: 0.8438\n",
      "Epoch 2/3\n",
      "24936/24936 [==============================] - 545s 22ms/step - loss: 0.2797 - acc: 0.8900 - val_loss: 0.3395 - val_acc: 0.7969\n",
      "Epoch 3/3\n",
      "24936/24936 [==============================] - 546s 22ms/step - loss: 0.2309 - acc: 0.9115 - val_loss: 0.3333 - val_acc: 0.8750\n"
     ]
    },
    {
     "data": {
      "text/plain": [
       "<keras.callbacks.History at 0x7f09666a2f98>"
      ]
     },
     "execution_count": 7,
     "metadata": {},
     "output_type": "execute_result"
    }
   ],
   "source": [
    "# TODO: Specify training parameters: batch size and number of epochs\n",
    "batch_size = 64\n",
    "num_epochs = 3\n",
    "\n",
    "# TODO(optional): Reserve/specify some training data for validation (not to be used for training)\n",
    "X_valid, y_valid = X_train[:batch_size], y_train[:batch_size]  # first batch_size samples\n",
    "X_train2, y_train2 = X_train[batch_size:], y_train[batch_size:]  # rest for training\n",
    "\n",
    "# TODO: Train your model\n",
    "model.fit(X_train2, y_train2,\n",
    "          batch_size=batch_size,\n",
    "          epochs=num_epochs,\n",
    "         validation_data=(X_valid, y_valid))"
   ]
  },
  {
   "cell_type": "code",
   "execution_count": 10,
   "metadata": {},
   "outputs": [],
   "source": [
    "import os\n",
    "# Save your model, so that you can quickly load it in future (and perhaps resume training)\n",
    "cache_dir='./'\n",
    "model_file = \"rnn_model.h5\"  # HDF5 file\n",
    "model.save(os.path.join(cache_dir, model_file))\n",
    "\n",
    "# Later you can load it using keras.models.load_model()\n",
    "#from keras.models import load_model\n",
    "#model = load_model(os.path.join(cache_dir, model_file))"
   ]
  },
  {
   "cell_type": "markdown",
   "metadata": {},
   "source": [
    "Once you have trained your model, it's time to see how well it performs on unseen test data."
   ]
  },
  {
   "cell_type": "code",
   "execution_count": 11,
   "metadata": {},
   "outputs": [
    {
     "name": "stdout",
     "output_type": "stream",
     "text": [
      "Test accuracy: 0.87484\n"
     ]
    }
   ],
   "source": [
    "# Evaluate your model on the test set\n",
    "scores = model.evaluate(X_test, y_test, verbose=0)  # returns loss and other metrics specified in model.compile()\n",
    "print(\"Test accuracy:\", scores[1])  # scores[1] should correspond to accuracy if you passed in metrics=['accuracy']"
   ]
  },
  {
   "cell_type": "markdown",
   "metadata": {},
   "source": [
    "#### Question: Comparing RNNs and Traditional Methods\n",
    "\n",
    "How well does your RNN model perform compared to the BoW + Gradient-Boosted Decision Trees?\n",
    "\n",
    "#### Answer:\n",
    "\n",
    "...\n",
    "\n",
    "## Extensions\n",
    "\n",
    "There are several ways in which you can build upon this notebook. Each comes with its set of challenges, but can be a rewarding experience.\n",
    "\n",
    "- The first thing is to try and improve the accuracy of your model by experimenting with different architectures, layers and parameters. How good can you get without taking prohibitively long to train? How do you prevent overfitting?\n",
    "\n",
    "- Then, you may want to deploy your model as a mobile app or web service. What do you need to do in order to package your model for such deployment? How would you accept a new review, convert it into a form suitable for your model, and perform the actual prediction? (Note that the same environment you used during training may not be available.)\n",
    "\n",
    "- One simplification we made in this notebook is to limit the task to binary classification. The dataset actually includes a more fine-grained review rating that is indicated in each review's filename (which is of the form `<[id]_[rating].txt>` where `[id]` is a unique identifier and `[rating]` is on a scale of 1-10; note that neutral reviews > 4 or < 7 have been excluded). How would you modify the notebook to perform regression on the review ratings? In what situations is regression more useful than classification, and vice-versa?\n",
    "\n",
    "Whatever direction you take, make sure to share your results and learnings with your peers, through blogs, discussions and participating in online competitions. This is also a great way to become more visible to potential employers!"
   ]
  },
  {
   "cell_type": "code",
   "execution_count": null,
   "metadata": {
    "collapsed": true
   },
   "outputs": [],
   "source": []
  }
 ],
 "metadata": {
  "kernelspec": {
   "display_name": "Python 3",
   "language": "python",
   "name": "python3"
  },
  "language_info": {
   "codemirror_mode": {
    "name": "ipython",
    "version": 3
   },
   "file_extension": ".py",
   "mimetype": "text/x-python",
   "name": "python",
   "nbconvert_exporter": "python",
   "pygments_lexer": "ipython3",
   "version": "3.6.3"
  }
 },
 "nbformat": 4,
 "nbformat_minor": 2
}
